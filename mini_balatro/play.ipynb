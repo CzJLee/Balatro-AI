{
 "cells": [
  {
   "cell_type": "code",
   "execution_count": 1,
   "metadata": {},
   "outputs": [],
   "source": [
    "import mini_balatro"
   ]
  },
  {
   "cell_type": "code",
   "execution_count": 2,
   "metadata": {},
   "outputs": [
    {
     "name": "stdout",
     "output_type": "stream",
     "text": [
      "[\u001b[32mA♣️\u001b[0m, \u001b[33mK♦️\u001b[0m, \u001b[33mQ♦️\u001b[0m, \u001b[37m10♠️\u001b[0m, \u001b[32m7♣️\u001b[0m, \u001b[32m6♣️\u001b[0m, \u001b[33m4♦️\u001b[0m, \u001b[31m3♥️\u001b[0m]\n"
     ]
    }
   ],
   "source": [
    "game = mini_balatro.Game(seed=0)\n",
    "game.new_round()\n",
    "\n",
    "print(game.hand)"
   ]
  },
  {
   "cell_type": "code",
   "execution_count": 3,
   "metadata": {},
   "outputs": [
    {
     "name": "stdout",
     "output_type": "stream",
     "text": [
      "\n",
      "DISCARD:                  \u001b[32m7♣️\u001b[0m  \u001b[32m6♣️\u001b[0m  \u001b[33m4♦️\u001b[0m  \u001b[31m3♥️\u001b[0m  \n",
      "KEEP:     \u001b[32mA♣️\u001b[0m  \u001b[33mK♦️\u001b[0m  \u001b[33mQ♦️\u001b[0m  \u001b[37m10♠️\u001b[0m                  \n",
      "\n",
      "NEW:              \u001b[32mQ♣️\u001b[0m          \u001b[33m10♦️\u001b[0m  \u001b[33m7♦️\u001b[0m  \u001b[32m5♣️\u001b[0m  \n",
      "OLD:      \u001b[32mA♣️\u001b[0m  \u001b[33mK♦️\u001b[0m      \u001b[33mQ♦️\u001b[0m  \u001b[37m10♠️\u001b[0m              \n"
     ]
    }
   ],
   "source": [
    "game.discard_cards([4, 5, 6, 7])"
   ]
  },
  {
   "cell_type": "code",
   "execution_count": 4,
   "metadata": {},
   "outputs": [
    {
     "name": "stdout",
     "output_type": "stream",
     "text": [
      "\n",
      "DISCARD:          \u001b[32mQ♣️\u001b[0m      \u001b[37m10♠️\u001b[0m      \u001b[33m7♦️\u001b[0m  \u001b[32m5♣️\u001b[0m  \n",
      "KEEP:     \u001b[32mA♣️\u001b[0m  \u001b[33mK♦️\u001b[0m      \u001b[33mQ♦️\u001b[0m      \u001b[33m10♦️\u001b[0m          \n",
      "\n",
      "NEW:          \u001b[33mA♦️\u001b[0m              \u001b[31m9♥️\u001b[0m  \u001b[37m8♠️\u001b[0m  \u001b[33m6♦️\u001b[0m  \n",
      "OLD:      \u001b[32mA♣️\u001b[0m      \u001b[33mK♦️\u001b[0m  \u001b[33mQ♦️\u001b[0m  \u001b[33m10♦️\u001b[0m              \n"
     ]
    }
   ],
   "source": [
    "game.discard_cards([2, 4, 6, 7])"
   ]
  },
  {
   "cell_type": "code",
   "execution_count": 5,
   "metadata": {},
   "outputs": [
    {
     "name": "stdout",
     "output_type": "stream",
     "text": [
      "\n",
      "DISCARD:  \u001b[32mA♣️\u001b[0m                  \u001b[31m9♥️\u001b[0m  \u001b[37m8♠️\u001b[0m  \u001b[33m6♦️\u001b[0m  \n",
      "KEEP:         \u001b[33mA♦️\u001b[0m  \u001b[33mK♦️\u001b[0m  \u001b[33mQ♦️\u001b[0m  \u001b[33m10♦️\u001b[0m              \n",
      "\n",
      "NEW:                  \u001b[31m10♥️\u001b[0m      \u001b[37m9♠️\u001b[0m  \u001b[31m7♥️\u001b[0m  \u001b[37m2♠️\u001b[0m  \n",
      "OLD:      \u001b[33mA♦️\u001b[0m  \u001b[33mK♦️\u001b[0m  \u001b[33mQ♦️\u001b[0m      \u001b[33m10♦️\u001b[0m              \n"
     ]
    }
   ],
   "source": [
    "game.discard_cards([0, 5, 6, 7])"
   ]
  },
  {
   "cell_type": "code",
   "execution_count": 6,
   "metadata": {},
   "outputs": [
    {
     "name": "stdout",
     "output_type": "stream",
     "text": [
      "\n",
      "PLAY:                 \u001b[31m10♥️\u001b[0m      \u001b[37m9♠️\u001b[0m  \u001b[31m7♥️\u001b[0m  \u001b[37m2♠️\u001b[0m  \n",
      "KEEP:     \u001b[33mA♦️\u001b[0m  \u001b[33mK♦️\u001b[0m  \u001b[33mQ♦️\u001b[0m      \u001b[33m10♦️\u001b[0m              \n",
      "\n",
      "High Card: [\u001b[31m10♥️\u001b[0m, \u001b[37m9♠️\u001b[0m, \u001b[31m7♥️\u001b[0m, \u001b[37m2♠️\u001b[0m]\n",
      "Cards scored: [\u001b[31m10♥️\u001b[0m]\n",
      "Score: 15 x 1 = 15\n",
      "Total Score: 15 / 600\n",
      "\n",
      "NEW:              \u001b[37mQ♠️\u001b[0m      \u001b[33mJ♦️\u001b[0m      \u001b[37m5♠️\u001b[0m  \u001b[31m4♥️\u001b[0m  \n",
      "OLD:      \u001b[33mA♦️\u001b[0m  \u001b[33mK♦️\u001b[0m      \u001b[33mQ♦️\u001b[0m      \u001b[33m10♦️\u001b[0m          \n"
     ]
    }
   ],
   "source": [
    "game.play_hand([3, 5, 6, 7])"
   ]
  },
  {
   "cell_type": "code",
   "execution_count": 7,
   "metadata": {},
   "outputs": [
    {
     "name": "stdout",
     "output_type": "stream",
     "text": [
      "\n",
      "PLAY:     \u001b[33mA♦️\u001b[0m  \u001b[33mK♦️\u001b[0m      \u001b[33mQ♦️\u001b[0m  \u001b[33mJ♦️\u001b[0m  \u001b[33m10♦️\u001b[0m          \n",
      "KEEP:             \u001b[37mQ♠️\u001b[0m              \u001b[37m5♠️\u001b[0m  \u001b[31m4♥️\u001b[0m  \n",
      "\n",
      "Straight Flush: [\u001b[33mA♦️\u001b[0m, \u001b[33mK♦️\u001b[0m, \u001b[33mQ♦️\u001b[0m, \u001b[33mJ♦️\u001b[0m, \u001b[33m10♦️\u001b[0m]\n",
      "Cards scored: [\u001b[33mA♦️\u001b[0m, \u001b[33mK♦️\u001b[0m, \u001b[33mQ♦️\u001b[0m, \u001b[33mJ♦️\u001b[0m, \u001b[33m10♦️\u001b[0m]\n",
      "Score: 151 x 8 = 1208\n",
      "Total Score: 1223 / 600\n",
      "Blind Complete!\n"
     ]
    }
   ],
   "source": [
    "game.play_hand([0, 1, 3, 4, 5])"
   ]
  },
  {
   "cell_type": "code",
   "execution_count": null,
   "metadata": {},
   "outputs": [],
   "source": []
  }
 ],
 "metadata": {
  "kernelspec": {
   "display_name": "balatro",
   "language": "python",
   "name": "python3"
  },
  "language_info": {
   "codemirror_mode": {
    "name": "ipython",
    "version": 3
   },
   "file_extension": ".py",
   "mimetype": "text/x-python",
   "name": "python",
   "nbconvert_exporter": "python",
   "pygments_lexer": "ipython3",
   "version": "3.12.4"
  }
 },
 "nbformat": 4,
 "nbformat_minor": 2
}

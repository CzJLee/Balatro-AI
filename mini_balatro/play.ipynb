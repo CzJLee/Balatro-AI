{
 "cells": [
  {
   "cell_type": "code",
   "execution_count": 1,
   "metadata": {},
   "outputs": [],
   "source": [
    "import mini_balatro"
   ]
  },
  {
   "cell_type": "code",
   "execution_count": 2,
   "metadata": {},
   "outputs": [
    {
     "name": "stdout",
     "output_type": "stream",
     "text": [
      "[\u001b[32mA♣️\u001b[0m, \u001b[33mK♦️\u001b[0m, \u001b[33mQ♦️\u001b[0m, \u001b[37m10♠️\u001b[0m, \u001b[32m7♣️\u001b[0m, \u001b[32m6♣️\u001b[0m, \u001b[33m4♦️\u001b[0m, \u001b[31m3♥️\u001b[0m]\n",
      "\n",
      "Hands: 4, Discards: 3\n",
      "Round Score: 0 / 600\n"
     ]
    }
   ],
   "source": [
    "game = mini_balatro.Game(seed=0)\n",
    "\n",
    "print(game.hand)\n",
    "game.print_status()"
   ]
  },
  {
   "cell_type": "code",
   "execution_count": 3,
   "metadata": {},
   "outputs": [
    {
     "name": "stdout",
     "output_type": "stream",
     "text": [
      "\n",
      "DISCARD:                  \u001b[32m7♣️\u001b[0m  \u001b[32m6♣️\u001b[0m  \u001b[33m4♦️\u001b[0m  \u001b[31m3♥️\u001b[0m  \n",
      "KEEP:     \u001b[32mA♣️\u001b[0m  \u001b[33mK♦️\u001b[0m  \u001b[33mQ♦️\u001b[0m  \u001b[37m10♠️\u001b[0m                  \n",
      "\n",
      "NEW:              \u001b[32mQ♣️\u001b[0m          \u001b[33m10♦️\u001b[0m  \u001b[33m7♦️\u001b[0m  \u001b[32m5♣️\u001b[0m  \n",
      "OLD:      \u001b[32mA♣️\u001b[0m  \u001b[33mK♦️\u001b[0m      \u001b[33mQ♦️\u001b[0m  \u001b[37m10♠️\u001b[0m              \n",
      "\n",
      "Hands: 4, Discards: 2\n",
      "Round Score: 0 / 600\n"
     ]
    }
   ],
   "source": [
    "game.discard_cards([4, 5, 6, 7])"
   ]
  },
  {
   "cell_type": "code",
   "execution_count": 4,
   "metadata": {},
   "outputs": [
    {
     "name": "stdout",
     "output_type": "stream",
     "text": [
      "\n",
      "DISCARD:          \u001b[32mQ♣️\u001b[0m      \u001b[37m10♠️\u001b[0m      \u001b[33m7♦️\u001b[0m  \u001b[32m5♣️\u001b[0m  \n",
      "KEEP:     \u001b[32mA♣️\u001b[0m  \u001b[33mK♦️\u001b[0m      \u001b[33mQ♦️\u001b[0m      \u001b[33m10♦️\u001b[0m          \n",
      "\n",
      "NEW:          \u001b[33mA♦️\u001b[0m              \u001b[31m9♥️\u001b[0m  \u001b[37m8♠️\u001b[0m  \u001b[33m6♦️\u001b[0m  \n",
      "OLD:      \u001b[32mA♣️\u001b[0m      \u001b[33mK♦️\u001b[0m  \u001b[33mQ♦️\u001b[0m  \u001b[33m10♦️\u001b[0m              \n",
      "\n",
      "Hands: 4, Discards: 1\n",
      "Round Score: 0 / 600\n"
     ]
    }
   ],
   "source": [
    "game.discard_cards([2, 4, 6, 7])"
   ]
  },
  {
   "cell_type": "code",
   "execution_count": 5,
   "metadata": {},
   "outputs": [
    {
     "name": "stdout",
     "output_type": "stream",
     "text": [
      "\n",
      "DISCARD:  \u001b[32mA♣️\u001b[0m                  \u001b[31m9♥️\u001b[0m  \u001b[37m8♠️\u001b[0m  \u001b[33m6♦️\u001b[0m  \n",
      "KEEP:         \u001b[33mA♦️\u001b[0m  \u001b[33mK♦️\u001b[0m  \u001b[33mQ♦️\u001b[0m  \u001b[33m10♦️\u001b[0m              \n",
      "\n",
      "NEW:                  \u001b[31m10♥️\u001b[0m      \u001b[37m9♠️\u001b[0m  \u001b[31m7♥️\u001b[0m  \u001b[37m2♠️\u001b[0m  \n",
      "OLD:      \u001b[33mA♦️\u001b[0m  \u001b[33mK♦️\u001b[0m  \u001b[33mQ♦️\u001b[0m      \u001b[33m10♦️\u001b[0m              \n",
      "\n",
      "Hands: 4, Discards: 0\n",
      "Round Score: 0 / 600\n"
     ]
    }
   ],
   "source": [
    "game.discard_cards([0, 5, 6, 7])"
   ]
  },
  {
   "cell_type": "code",
   "execution_count": 6,
   "metadata": {},
   "outputs": [
    {
     "name": "stdout",
     "output_type": "stream",
     "text": [
      "\n",
      "PLAY:                 \u001b[31m10♥️\u001b[0m      \u001b[37m9♠️\u001b[0m  \u001b[31m7♥️\u001b[0m  \u001b[37m2♠️\u001b[0m  \n",
      "KEEP:     \u001b[33mA♦️\u001b[0m  \u001b[33mK♦️\u001b[0m  \u001b[33mQ♦️\u001b[0m      \u001b[33m10♦️\u001b[0m              \n",
      "\n",
      "High Card: [\u001b[31m10♥️\u001b[0m, \u001b[37m9♠️\u001b[0m, \u001b[31m7♥️\u001b[0m, \u001b[37m2♠️\u001b[0m]\n",
      "Cards scored: [\u001b[31m10♥️\u001b[0m]\n",
      "Score: 15 x 1 = 15\n",
      "Total Score: 15 / 600\n",
      "\n",
      "NEW:              \u001b[37mQ♠️\u001b[0m      \u001b[33mJ♦️\u001b[0m      \u001b[37m5♠️\u001b[0m  \u001b[31m4♥️\u001b[0m  \n",
      "OLD:      \u001b[33mA♦️\u001b[0m  \u001b[33mK♦️\u001b[0m      \u001b[33mQ♦️\u001b[0m      \u001b[33m10♦️\u001b[0m          \n",
      "\n",
      "Hands: 3, Discards: 0\n",
      "Round Score: 15 / 600\n"
     ]
    }
   ],
   "source": [
    "game.play_hand([3, 5, 6, 7])"
   ]
  },
  {
   "cell_type": "code",
   "execution_count": 7,
   "metadata": {},
   "outputs": [
    {
     "name": "stdout",
     "output_type": "stream",
     "text": [
      "\n",
      "PLAY:     \u001b[33mA♦️\u001b[0m  \u001b[33mK♦️\u001b[0m      \u001b[33mQ♦️\u001b[0m  \u001b[33mJ♦️\u001b[0m  \u001b[33m10♦️\u001b[0m          \n",
      "KEEP:             \u001b[37mQ♠️\u001b[0m              \u001b[37m5♠️\u001b[0m  \u001b[31m4♥️\u001b[0m  \n",
      "\n",
      "Straight Flush: [\u001b[33mA♦️\u001b[0m, \u001b[33mK♦️\u001b[0m, \u001b[33mQ♦️\u001b[0m, \u001b[33mJ♦️\u001b[0m, \u001b[33m10♦️\u001b[0m]\n",
      "Cards scored: [\u001b[33mA♦️\u001b[0m, \u001b[33mK♦️\u001b[0m, \u001b[33mQ♦️\u001b[0m, \u001b[33mJ♦️\u001b[0m, \u001b[33m10♦️\u001b[0m]\n",
      "Score: 151 x 8 = 1208\n",
      "Total Score: 1223 / 600\n",
      "\u001b[42m\u001b[37mBlind Complete!\n"
     ]
    }
   ],
   "source": [
    "game.play_hand([0, 1, 3, 4, 5])"
   ]
  },
  {
   "cell_type": "code",
   "execution_count": 8,
   "metadata": {},
   "outputs": [
    {
     "name": "stdout",
     "output_type": "stream",
     "text": [
      "[\u001b[32mJ♣️\u001b[0m, \u001b[37m10♠️\u001b[0m, \u001b[31m9♥️\u001b[0m, \u001b[31m8♥️\u001b[0m, \u001b[32m6♣️\u001b[0m, \u001b[31m5♥️\u001b[0m, \u001b[33m4♦️\u001b[0m, \u001b[32m3♣️\u001b[0m]\n"
     ]
    }
   ],
   "source": [
    "game = mini_balatro.Game(seed=1)\n",
    "\n",
    "print(game.hand)"
   ]
  },
  {
   "cell_type": "code",
   "execution_count": 9,
   "metadata": {},
   "outputs": [
    {
     "name": "stdout",
     "output_type": "stream",
     "text": [
      "\n",
      "DISCARD:                  \u001b[32m6♣️\u001b[0m  \u001b[31m5♥️\u001b[0m  \u001b[33m4♦️\u001b[0m  \u001b[32m3♣️\u001b[0m  \n",
      "KEEP:     \u001b[32mJ♣️\u001b[0m  \u001b[37m10♠️\u001b[0m  \u001b[31m9♥️\u001b[0m  \u001b[31m8♥️\u001b[0m                  \n",
      "\n",
      "NEW:      \u001b[33mA♦️\u001b[0m  \u001b[33mQ♦️\u001b[0m                  \u001b[32m5♣️\u001b[0m  \u001b[37m3♠️\u001b[0m  \n",
      "OLD:              \u001b[32mJ♣️\u001b[0m  \u001b[37m10♠️\u001b[0m  \u001b[31m9♥️\u001b[0m  \u001b[31m8♥️\u001b[0m          \n",
      "\n",
      "Hands: 4, Discards: 2\n",
      "Round Score: 0 / 600\n"
     ]
    }
   ],
   "source": [
    "game.discard_cards([4, 5, 6, 7])"
   ]
  },
  {
   "cell_type": "code",
   "execution_count": 10,
   "metadata": {},
   "outputs": [
    {
     "name": "stdout",
     "output_type": "stream",
     "text": [
      "\n",
      "PLAY:         \u001b[33mQ♦️\u001b[0m  \u001b[32mJ♣️\u001b[0m  \u001b[37m10♠️\u001b[0m  \u001b[31m9♥️\u001b[0m  \u001b[31m8♥️\u001b[0m          \n",
      "KEEP:     \u001b[33mA♦️\u001b[0m                      \u001b[32m5♣️\u001b[0m  \u001b[37m3♠️\u001b[0m  \n",
      "\n",
      "Straight: [\u001b[33mQ♦️\u001b[0m, \u001b[32mJ♣️\u001b[0m, \u001b[37m10♠️\u001b[0m, \u001b[31m9♥️\u001b[0m, \u001b[31m8♥️\u001b[0m]\n",
      "Cards scored: [\u001b[33mQ♦️\u001b[0m, \u001b[32mJ♣️\u001b[0m, \u001b[37m10♠️\u001b[0m, \u001b[31m9♥️\u001b[0m, \u001b[31m8♥️\u001b[0m]\n",
      "Score: 77 x 4 = 308\n",
      "Total Score: 308 / 600\n",
      "\n",
      "NEW:          \u001b[37m7♠️\u001b[0m  \u001b[31m7♥️\u001b[0m      \u001b[37m4♠️\u001b[0m      \u001b[31m2♥️\u001b[0m  \u001b[32m2♣️\u001b[0m  \n",
      "OLD:      \u001b[33mA♦️\u001b[0m          \u001b[32m5♣️\u001b[0m      \u001b[37m3♠️\u001b[0m          \n",
      "\n",
      "Hands: 3, Discards: 2\n",
      "Round Score: 308 / 600\n"
     ]
    }
   ],
   "source": [
    "game.play_hand([1, 2, 3, 4, 5])"
   ]
  },
  {
   "cell_type": "code",
   "execution_count": 11,
   "metadata": {},
   "outputs": [
    {
     "name": "stdout",
     "output_type": "stream",
     "text": [
      "\n",
      "DISCARD:  \u001b[33mA♦️\u001b[0m          \u001b[32m5♣️\u001b[0m  \u001b[37m4♠️\u001b[0m  \u001b[37m3♠️\u001b[0m          \n",
      "KEEP:         \u001b[37m7♠️\u001b[0m  \u001b[31m7♥️\u001b[0m              \u001b[31m2♥️\u001b[0m  \u001b[32m2♣️\u001b[0m  \n",
      "\n",
      "NEW:      \u001b[31mA♥️\u001b[0m          \u001b[37m6♠️\u001b[0m  \u001b[33m5♦️\u001b[0m          \u001b[33m2♦️\u001b[0m  \n",
      "OLD:          \u001b[37m7♠️\u001b[0m  \u001b[31m7♥️\u001b[0m          \u001b[31m2♥️\u001b[0m  \u001b[32m2♣️\u001b[0m      \n",
      "\n",
      "Hands: 3, Discards: 1\n",
      "Round Score: 308 / 600\n"
     ]
    }
   ],
   "source": [
    "game.discard_cards([0, 3, 4, 5])"
   ]
  },
  {
   "cell_type": "code",
   "execution_count": 12,
   "metadata": {},
   "outputs": [
    {
     "name": "stdout",
     "output_type": "stream",
     "text": [
      "\n",
      "PLAY:         \u001b[37m7♠️\u001b[0m  \u001b[31m7♥️\u001b[0m          \u001b[31m2♥️\u001b[0m  \u001b[32m2♣️\u001b[0m  \u001b[33m2♦️\u001b[0m  \n",
      "KEEP:     \u001b[31mA♥️\u001b[0m          \u001b[37m6♠️\u001b[0m  \u001b[33m5♦️\u001b[0m              \n",
      "\n",
      "Full House: [\u001b[37m7♠️\u001b[0m, \u001b[31m7♥️\u001b[0m, \u001b[31m2♥️\u001b[0m, \u001b[32m2♣️\u001b[0m, \u001b[33m2♦️\u001b[0m]\n",
      "Cards scored: [\u001b[37m7♠️\u001b[0m, \u001b[31m7♥️\u001b[0m, \u001b[31m2♥️\u001b[0m, \u001b[32m2♣️\u001b[0m, \u001b[33m2♦️\u001b[0m]\n",
      "Score: 60 x 4 = 240\n",
      "Total Score: 548 / 600\n",
      "\n",
      "NEW:          \u001b[31mJ♥️\u001b[0m  \u001b[32m9♣️\u001b[0m  \u001b[32m8♣️\u001b[0m      \u001b[33m6♦️\u001b[0m      \u001b[31m4♥️\u001b[0m  \n",
      "OLD:      \u001b[31mA♥️\u001b[0m              \u001b[37m6♠️\u001b[0m      \u001b[33m5♦️\u001b[0m      \n",
      "\n",
      "Hands: 2, Discards: 1\n",
      "Round Score: 548 / 600\n"
     ]
    }
   ],
   "source": [
    "game.play_hand([1, 2, 5, 6, 7])"
   ]
  },
  {
   "cell_type": "code",
   "execution_count": 13,
   "metadata": {},
   "outputs": [
    {
     "name": "stdout",
     "output_type": "stream",
     "text": [
      "\n",
      "DISCARD:      \u001b[31mJ♥️\u001b[0m  \u001b[32m9♣️\u001b[0m  \u001b[32m8♣️\u001b[0m          \u001b[33m5♦️\u001b[0m  \u001b[31m4♥️\u001b[0m  \n",
      "KEEP:     \u001b[31mA♥️\u001b[0m              \u001b[37m6♠️\u001b[0m  \u001b[33m6♦️\u001b[0m          \n",
      "\n",
      "NEW:          \u001b[32mA♣️\u001b[0m  \u001b[33mK♦️\u001b[0m  \u001b[37mQ♠️\u001b[0m  \u001b[33m8♦️\u001b[0m  \u001b[32m7♣️\u001b[0m          \n",
      "OLD:      \u001b[31mA♥️\u001b[0m                      \u001b[37m6♠️\u001b[0m  \u001b[33m6♦️\u001b[0m  \n",
      "\n",
      "Hands: 2, Discards: 0\n",
      "Round Score: 548 / 600\n"
     ]
    }
   ],
   "source": [
    "game.discard_cards([1, 2, 3, 6, 7])"
   ]
  },
  {
   "cell_type": "code",
   "execution_count": 14,
   "metadata": {},
   "outputs": [
    {
     "name": "stdout",
     "output_type": "stream",
     "text": [
      "\n",
      "PLAY:     \u001b[31mA♥️\u001b[0m  \u001b[32mA♣️\u001b[0m                  \u001b[37m6♠️\u001b[0m  \u001b[33m6♦️\u001b[0m  \n",
      "KEEP:             \u001b[33mK♦️\u001b[0m  \u001b[37mQ♠️\u001b[0m  \u001b[33m8♦️\u001b[0m  \u001b[32m7♣️\u001b[0m          \n",
      "\n",
      "Two Pair: [\u001b[31mA♥️\u001b[0m, \u001b[32mA♣️\u001b[0m, \u001b[37m6♠️\u001b[0m, \u001b[33m6♦️\u001b[0m]\n",
      "Cards scored: [\u001b[31mA♥️\u001b[0m, \u001b[32mA♣️\u001b[0m, \u001b[37m6♠️\u001b[0m, \u001b[33m6♦️\u001b[0m]\n",
      "Score: 54 x 2 = 108\n",
      "Total Score: 656 / 600\n",
      "\u001b[42m\u001b[37mBlind Complete!\n"
     ]
    }
   ],
   "source": [
    "game.play_hand([0, 1, 6, 7])"
   ]
  },
  {
   "cell_type": "code",
   "execution_count": 15,
   "metadata": {},
   "outputs": [
    {
     "name": "stdout",
     "output_type": "stream",
     "text": [
      "[\u001b[37mQ♠️\u001b[0m, \u001b[31mJ♥️\u001b[0m, \u001b[33mJ♦️\u001b[0m, \u001b[33m7♦️\u001b[0m, \u001b[31m6♥️\u001b[0m, \u001b[37m4♠️\u001b[0m, \u001b[31m4♥️\u001b[0m, \u001b[33m4♦️\u001b[0m]\n"
     ]
    }
   ],
   "source": [
    "game = mini_balatro.Game(seed=2)\n",
    "\n",
    "print(game.hand)"
   ]
  },
  {
   "cell_type": "code",
   "execution_count": 16,
   "metadata": {},
   "outputs": [
    {
     "name": "stdout",
     "output_type": "stream",
     "text": [
      "\n",
      "PLAY:         \u001b[31mJ♥️\u001b[0m  \u001b[33mJ♦️\u001b[0m          \u001b[37m4♠️\u001b[0m  \u001b[31m4♥️\u001b[0m  \u001b[33m4♦️\u001b[0m  \n",
      "KEEP:     \u001b[37mQ♠️\u001b[0m          \u001b[33m7♦️\u001b[0m  \u001b[31m6♥️\u001b[0m              \n",
      "\n",
      "Full House: [\u001b[31mJ♥️\u001b[0m, \u001b[33mJ♦️\u001b[0m, \u001b[37m4♠️\u001b[0m, \u001b[31m4♥️\u001b[0m, \u001b[33m4♦️\u001b[0m]\n",
      "Cards scored: [\u001b[31mJ♥️\u001b[0m, \u001b[33mJ♦️\u001b[0m, \u001b[37m4♠️\u001b[0m, \u001b[31m4♥️\u001b[0m, \u001b[33m4♦️\u001b[0m]\n",
      "Score: 72 x 4 = 288\n",
      "Total Score: 288 / 600\n",
      "\n",
      "NEW:      \u001b[33mA♦️\u001b[0m  \u001b[32mK♣️\u001b[0m      \u001b[32mQ♣️\u001b[0m          \u001b[37m5♠️\u001b[0m  \u001b[31m3♥️\u001b[0m  \n",
      "OLD:              \u001b[37mQ♠️\u001b[0m      \u001b[33m7♦️\u001b[0m  \u001b[31m6♥️\u001b[0m          \n",
      "\n",
      "Hands: 3, Discards: 3\n",
      "Round Score: 288 / 600\n"
     ]
    }
   ],
   "source": [
    "game.play_hand([1, 2, 5, 6, 7])"
   ]
  },
  {
   "cell_type": "code",
   "execution_count": 17,
   "metadata": {},
   "outputs": [
    {
     "name": "stdout",
     "output_type": "stream",
     "text": [
      "\n",
      "DISCARD:              \u001b[32mQ♣️\u001b[0m  \u001b[33m7♦️\u001b[0m  \u001b[31m6♥️\u001b[0m  \u001b[37m5♠️\u001b[0m  \u001b[31m3♥️\u001b[0m  \n",
      "KEEP:     \u001b[33mA♦️\u001b[0m  \u001b[32mK♣️\u001b[0m  \u001b[37mQ♠️\u001b[0m                      \n",
      "\n",
      "NEW:              \u001b[33mK♦️\u001b[0m      \u001b[37m10♠️\u001b[0m  \u001b[37m9♠️\u001b[0m  \u001b[32m7♣️\u001b[0m  \u001b[32m2♣️\u001b[0m  \n",
      "OLD:      \u001b[33mA♦️\u001b[0m  \u001b[32mK♣️\u001b[0m      \u001b[37mQ♠️\u001b[0m                  \n",
      "\n",
      "Hands: 3, Discards: 2\n",
      "Round Score: 288 / 600\n"
     ]
    }
   ],
   "source": [
    "game.discard_cards([3, 4, 5, 6, 7])"
   ]
  },
  {
   "cell_type": "code",
   "execution_count": 18,
   "metadata": {},
   "outputs": [
    {
     "name": "stdout",
     "output_type": "stream",
     "text": [
      "\n",
      "DISCARD:      \u001b[32mK♣️\u001b[0m              \u001b[37m9♠️\u001b[0m  \u001b[32m7♣️\u001b[0m  \u001b[32m2♣️\u001b[0m  \n",
      "KEEP:     \u001b[33mA♦️\u001b[0m      \u001b[33mK♦️\u001b[0m  \u001b[37mQ♠️\u001b[0m  \u001b[37m10♠️\u001b[0m              \n",
      "\n",
      "NEW:                      \u001b[32m10♣️\u001b[0m  \u001b[32m8♣️\u001b[0m  \u001b[33m5♦️\u001b[0m  \u001b[32m3♣️\u001b[0m  \n",
      "OLD:      \u001b[33mA♦️\u001b[0m  \u001b[33mK♦️\u001b[0m  \u001b[37mQ♠️\u001b[0m  \u001b[37m10♠️\u001b[0m                  \n",
      "\n",
      "Hands: 3, Discards: 1\n",
      "Round Score: 288 / 600\n"
     ]
    }
   ],
   "source": [
    "game.discard_cards([1, 5, 6, 7])"
   ]
  },
  {
   "cell_type": "code",
   "execution_count": 19,
   "metadata": {},
   "outputs": [
    {
     "name": "stdout",
     "output_type": "stream",
     "text": [
      "\n",
      "DISCARD:                  \u001b[32m10♣️\u001b[0m  \u001b[32m8♣️\u001b[0m  \u001b[33m5♦️\u001b[0m  \u001b[32m3♣️\u001b[0m  \n",
      "KEEP:     \u001b[33mA♦️\u001b[0m  \u001b[33mK♦️\u001b[0m  \u001b[37mQ♠️\u001b[0m  \u001b[37m10♠️\u001b[0m                  \n",
      "\n",
      "NEW:      \u001b[37mA♠️\u001b[0m  \u001b[31mA♥️\u001b[0m              \u001b[31mQ♥️\u001b[0m      \u001b[31m2♥️\u001b[0m  \n",
      "OLD:              \u001b[33mA♦️\u001b[0m  \u001b[33mK♦️\u001b[0m  \u001b[37mQ♠️\u001b[0m      \u001b[37m10♠️\u001b[0m      \n",
      "\n",
      "Hands: 3, Discards: 0\n",
      "Round Score: 288 / 600\n"
     ]
    }
   ],
   "source": [
    "game.discard_cards([4, 5, 6, 7])"
   ]
  },
  {
   "cell_type": "code",
   "execution_count": 20,
   "metadata": {},
   "outputs": [
    {
     "name": "stdout",
     "output_type": "stream",
     "text": [
      "\n",
      "PLAY:     \u001b[37mA♠️\u001b[0m  \u001b[31mA♥️\u001b[0m  \u001b[33mA♦️\u001b[0m      \u001b[37mQ♠️\u001b[0m  \u001b[31mQ♥️\u001b[0m          \n",
      "KEEP:                 \u001b[33mK♦️\u001b[0m          \u001b[37m10♠️\u001b[0m  \u001b[31m2♥️\u001b[0m  \n",
      "\n",
      "Full House: [\u001b[37mA♠️\u001b[0m, \u001b[31mA♥️\u001b[0m, \u001b[33mA♦️\u001b[0m, \u001b[37mQ♠️\u001b[0m, \u001b[31mQ♥️\u001b[0m]\n",
      "Cards scored: [\u001b[37mA♠️\u001b[0m, \u001b[31mA♥️\u001b[0m, \u001b[33mA♦️\u001b[0m, \u001b[37mQ♠️\u001b[0m, \u001b[31mQ♥️\u001b[0m]\n",
      "Score: 93 x 4 = 372\n",
      "Total Score: 660 / 600\n",
      "\u001b[42m\u001b[37mBlind Complete!\n"
     ]
    }
   ],
   "source": [
    "game.play_hand([0, 1, 2, 4, 5])"
   ]
  },
  {
   "cell_type": "code",
   "execution_count": 21,
   "metadata": {},
   "outputs": [
    {
     "name": "stdout",
     "output_type": "stream",
     "text": [
      "[\u001b[32mK♣️\u001b[0m, \u001b[32mQ♣️\u001b[0m, \u001b[33mJ♦️\u001b[0m, \u001b[31m9♥️\u001b[0m, \u001b[32m9♣️\u001b[0m, \u001b[32m5♣️\u001b[0m, \u001b[33m3♦️\u001b[0m, \u001b[37m2♠️\u001b[0m]\n"
     ]
    }
   ],
   "source": [
    "game = mini_balatro.Game(seed=3)\n",
    "\n",
    "print(game.hand)"
   ]
  },
  {
   "cell_type": "code",
   "execution_count": 22,
   "metadata": {},
   "outputs": [
    {
     "name": "stdout",
     "output_type": "stream",
     "text": [
      "\n",
      "DISCARD:                  \u001b[32m9♣️\u001b[0m  \u001b[32m5♣️\u001b[0m  \u001b[33m3♦️\u001b[0m  \u001b[37m2♠️\u001b[0m  \n",
      "KEEP:     \u001b[32mK♣️\u001b[0m  \u001b[32mQ♣️\u001b[0m  \u001b[33mJ♦️\u001b[0m  \u001b[31m9♥️\u001b[0m                  \n",
      "\n",
      "NEW:      \u001b[31mA♥️\u001b[0m      \u001b[37mQ♠️\u001b[0m              \u001b[37m8♠️\u001b[0m  \u001b[31m5♥️\u001b[0m  \n",
      "OLD:          \u001b[32mK♣️\u001b[0m      \u001b[32mQ♣️\u001b[0m  \u001b[33mJ♦️\u001b[0m  \u001b[31m9♥️\u001b[0m          \n",
      "\n",
      "Hands: 4, Discards: 2\n",
      "Round Score: 0 / 600\n"
     ]
    }
   ],
   "source": [
    "game.discard_cards([4, 5, 6, 7])"
   ]
  },
  {
   "cell_type": "code",
   "execution_count": 23,
   "metadata": {},
   "outputs": [
    {
     "name": "stdout",
     "output_type": "stream",
     "text": [
      "\n",
      "DISCARD:          \u001b[37mQ♠️\u001b[0m          \u001b[31m9♥️\u001b[0m  \u001b[37m8♠️\u001b[0m  \u001b[31m5♥️\u001b[0m  \n",
      "KEEP:     \u001b[31mA♥️\u001b[0m  \u001b[32mK♣️\u001b[0m      \u001b[32mQ♣️\u001b[0m  \u001b[33mJ♦️\u001b[0m              \n",
      "\n",
      "NEW:                      \u001b[32m10♣️\u001b[0m  \u001b[37m7♠️\u001b[0m  \u001b[33m4♦️\u001b[0m  \u001b[33m2♦️\u001b[0m  \n",
      "OLD:      \u001b[31mA♥️\u001b[0m  \u001b[32mK♣️\u001b[0m  \u001b[32mQ♣️\u001b[0m  \u001b[33mJ♦️\u001b[0m                  \n",
      "\n",
      "Hands: 4, Discards: 1\n",
      "Round Score: 0 / 600\n"
     ]
    }
   ],
   "source": [
    "game.discard_cards([2, 5, 6, 7])"
   ]
  },
  {
   "cell_type": "code",
   "execution_count": 24,
   "metadata": {},
   "outputs": [
    {
     "name": "stdout",
     "output_type": "stream",
     "text": [
      "\n",
      "PLAY:     \u001b[31mA♥️\u001b[0m  \u001b[32mK♣️\u001b[0m  \u001b[32mQ♣️\u001b[0m  \u001b[33mJ♦️\u001b[0m  \u001b[32m10♣️\u001b[0m              \n",
      "KEEP:                         \u001b[37m7♠️\u001b[0m  \u001b[33m4♦️\u001b[0m  \u001b[33m2♦️\u001b[0m  \n",
      "\n",
      "Straight: [\u001b[31mA♥️\u001b[0m, \u001b[32mK♣️\u001b[0m, \u001b[32mQ♣️\u001b[0m, \u001b[33mJ♦️\u001b[0m, \u001b[32m10♣️\u001b[0m]\n",
      "Cards scored: [\u001b[31mA♥️\u001b[0m, \u001b[32mK♣️\u001b[0m, \u001b[32mQ♣️\u001b[0m, \u001b[33mJ♦️\u001b[0m, \u001b[32m10♣️\u001b[0m]\n",
      "Score: 81 x 4 = 324\n",
      "Total Score: 324 / 600\n",
      "\n",
      "NEW:      \u001b[37mA♠️\u001b[0m  \u001b[31mK♥️\u001b[0m  \u001b[33mK♦️\u001b[0m  \u001b[37mJ♠️\u001b[0m  \u001b[31m10♥️\u001b[0m              \n",
      "OLD:                          \u001b[37m7♠️\u001b[0m  \u001b[33m4♦️\u001b[0m  \u001b[33m2♦️\u001b[0m  \n",
      "\n",
      "Hands: 3, Discards: 1\n",
      "Round Score: 324 / 600\n"
     ]
    }
   ],
   "source": [
    "game.play_hand([0, 1, 2, 3, 4])"
   ]
  },
  {
   "cell_type": "code",
   "execution_count": 25,
   "metadata": {},
   "outputs": [
    {
     "name": "stdout",
     "output_type": "stream",
     "text": [
      "\n",
      "DISCARD:      \u001b[31mK♥️\u001b[0m              \u001b[37m7♠️\u001b[0m  \u001b[33m4♦️\u001b[0m  \u001b[33m2♦️\u001b[0m  \n",
      "KEEP:     \u001b[37mA♠️\u001b[0m      \u001b[33mK♦️\u001b[0m  \u001b[37mJ♠️\u001b[0m  \u001b[31m10♥️\u001b[0m              \n",
      "\n",
      "NEW:                      \u001b[31m8♥️\u001b[0m  \u001b[33m8♦️\u001b[0m  \u001b[37m4♠️\u001b[0m  \u001b[32m2♣️\u001b[0m  \n",
      "OLD:      \u001b[37mA♠️\u001b[0m  \u001b[33mK♦️\u001b[0m  \u001b[37mJ♠️\u001b[0m  \u001b[31m10♥️\u001b[0m                  \n",
      "\n",
      "Hands: 3, Discards: 0\n",
      "Round Score: 324 / 600\n"
     ]
    }
   ],
   "source": [
    "game.discard_cards([1, 5, 6, 7])"
   ]
  },
  {
   "cell_type": "code",
   "execution_count": 26,
   "metadata": {},
   "outputs": [
    {
     "name": "stdout",
     "output_type": "stream",
     "text": [
      "\n",
      "PLAY:                     \u001b[31m8♥️\u001b[0m  \u001b[33m8♦️\u001b[0m  \u001b[37m4♠️\u001b[0m  \u001b[32m2♣️\u001b[0m  \n",
      "KEEP:     \u001b[37mA♠️\u001b[0m  \u001b[33mK♦️\u001b[0m  \u001b[37mJ♠️\u001b[0m  \u001b[31m10♥️\u001b[0m                  \n",
      "\n",
      "Pair: [\u001b[31m8♥️\u001b[0m, \u001b[33m8♦️\u001b[0m, \u001b[37m4♠️\u001b[0m, \u001b[32m2♣️\u001b[0m]\n",
      "Cards scored: [\u001b[31m8♥️\u001b[0m, \u001b[33m8♦️\u001b[0m]\n",
      "Score: 26 x 2 = 52\n",
      "Total Score: 376 / 600\n",
      "\n",
      "NEW:                      \u001b[37m9♠️\u001b[0m  \u001b[37m6♠️\u001b[0m  \u001b[37m5♠️\u001b[0m  \u001b[37m3♠️\u001b[0m  \n",
      "OLD:      \u001b[37mA♠️\u001b[0m  \u001b[33mK♦️\u001b[0m  \u001b[37mJ♠️\u001b[0m  \u001b[31m10♥️\u001b[0m                  \n",
      "\n",
      "Hands: 2, Discards: 0\n",
      "Round Score: 376 / 600\n"
     ]
    }
   ],
   "source": [
    "game.play_hand([4, 5, 6, 7])"
   ]
  },
  {
   "cell_type": "code",
   "execution_count": 27,
   "metadata": {},
   "outputs": [
    {
     "name": "stdout",
     "output_type": "stream",
     "text": [
      "\n",
      "PLAY:                     \u001b[37m9♠️\u001b[0m  \u001b[37m6♠️\u001b[0m  \u001b[37m5♠️\u001b[0m  \u001b[37m3♠️\u001b[0m  \n",
      "KEEP:     \u001b[37mA♠️\u001b[0m  \u001b[33mK♦️\u001b[0m  \u001b[37mJ♠️\u001b[0m  \u001b[31m10♥️\u001b[0m                  \n",
      "\n",
      "High Card: [\u001b[37m9♠️\u001b[0m, \u001b[37m6♠️\u001b[0m, \u001b[37m5♠️\u001b[0m, \u001b[37m3♠️\u001b[0m]\n",
      "Cards scored: [\u001b[37m9♠️\u001b[0m]\n",
      "Score: 14 x 1 = 14\n",
      "Total Score: 390 / 600\n",
      "\n",
      "NEW:                      \u001b[33m9♦️\u001b[0m  \u001b[31m6♥️\u001b[0m  \u001b[33m6♦️\u001b[0m  \u001b[31m3♥️\u001b[0m  \n",
      "OLD:      \u001b[37mA♠️\u001b[0m  \u001b[33mK♦️\u001b[0m  \u001b[37mJ♠️\u001b[0m  \u001b[31m10♥️\u001b[0m                  \n",
      "\n",
      "Hands: 1, Discards: 0\n",
      "Round Score: 390 / 600\n"
     ]
    }
   ],
   "source": [
    "game.play_hand([4, 5, 6, 7])"
   ]
  },
  {
   "cell_type": "code",
   "execution_count": 28,
   "metadata": {},
   "outputs": [
    {
     "name": "stdout",
     "output_type": "stream",
     "text": [
      "\n",
      "PLAY:     \u001b[37mA♠️\u001b[0m              \u001b[33m9♦️\u001b[0m  \u001b[31m6♥️\u001b[0m  \u001b[33m6♦️\u001b[0m  \u001b[31m3♥️\u001b[0m  \n",
      "KEEP:         \u001b[33mK♦️\u001b[0m  \u001b[37mJ♠️\u001b[0m  \u001b[31m10♥️\u001b[0m                  \n",
      "\n",
      "Pair: [\u001b[37mA♠️\u001b[0m, \u001b[33m9♦️\u001b[0m, \u001b[31m6♥️\u001b[0m, \u001b[33m6♦️\u001b[0m, \u001b[31m3♥️\u001b[0m]\n",
      "Cards scored: [\u001b[31m6♥️\u001b[0m, \u001b[33m6♦️\u001b[0m]\n",
      "Score: 22 x 2 = 44\n",
      "Total Score: 434 / 600\n",
      "\u001b[41m\u001b[37mGame Over!\n"
     ]
    }
   ],
   "source": [
    "game.play_hand([0, 4, 5, 6, 7])"
   ]
  },
  {
   "cell_type": "code",
   "execution_count": 36,
   "metadata": {},
   "outputs": [
    {
     "name": "stdout",
     "output_type": "stream",
     "text": [
      "[\u001b[33m3♦️\u001b[0m, \u001b[32mQ♣️\u001b[0m, \u001b[32m9♣️\u001b[0m, \u001b[31m9♥️\u001b[0m, \u001b[33mJ♦️\u001b[0m, \u001b[32mK♣️\u001b[0m, \u001b[32m5♣️\u001b[0m, \u001b[37m2♠️\u001b[0m, \u001b[37mQ♠️\u001b[0m, \u001b[31m5♥️\u001b[0m, \u001b[37m8♠️\u001b[0m, \u001b[31mA♥️\u001b[0m, \u001b[37m7♠️\u001b[0m, \u001b[33m4♦️\u001b[0m, \u001b[32m10♣️\u001b[0m, \u001b[33m2♦️\u001b[0m, \u001b[31mK♥️\u001b[0m, \u001b[37mA♠️\u001b[0m, \u001b[37mJ♠️\u001b[0m, \u001b[33mK♦️\u001b[0m, \u001b[31m10♥️\u001b[0m, \u001b[31m8♥️\u001b[0m, \u001b[33m8♦️\u001b[0m]\n"
     ]
    }
   ],
   "source": [
    "game = mini_balatro.Game(seed=3)\n",
    "game.new_round(seed=3, deal_hand=False)\n",
    "\n",
    "cards = []\n",
    "for _ in range(23):\n",
    "    cards.append(game.deck.draw())\n",
    "    \n",
    "print(cards)"
   ]
  },
  {
   "cell_type": "code",
   "execution_count": 30,
   "metadata": {},
   "outputs": [
    {
     "name": "stdout",
     "output_type": "stream",
     "text": [
      "[\u001b[32mK♣️\u001b[0m, \u001b[32mQ♣️\u001b[0m, \u001b[33mJ♦️\u001b[0m, \u001b[31m9♥️\u001b[0m, \u001b[32m9♣️\u001b[0m, \u001b[32m5♣️\u001b[0m, \u001b[33m3♦️\u001b[0m, \u001b[37m2♠️\u001b[0m]\n",
      "[\u001b[32mK♣️\u001b[0m, \u001b[32mQ♣️\u001b[0m, \u001b[33mJ♦️\u001b[0m, \u001b[31m9♥️\u001b[0m, \u001b[32m9♣️\u001b[0m, \u001b[32m5♣️\u001b[0m, \u001b[33m3♦️\u001b[0m, \u001b[37m2♠️\u001b[0m, \u001b[37mQ♠️\u001b[0m, \u001b[31m5♥️\u001b[0m, \u001b[37m8♠️\u001b[0m, \u001b[31mA♥️\u001b[0m, \u001b[37m7♠️\u001b[0m, \u001b[33m4♦️\u001b[0m, \u001b[32m10♣️\u001b[0m, \u001b[33m2♦️\u001b[0m, \u001b[31mK♥️\u001b[0m, \u001b[37mA♠️\u001b[0m, \u001b[37mJ♠️\u001b[0m, \u001b[33mK♦️\u001b[0m, \u001b[31m10♥️\u001b[0m, \u001b[31m8♥️\u001b[0m, \u001b[33m8♦️\u001b[0m, \u001b[37m4♠️\u001b[0m, \u001b[32m2♣️\u001b[0m, \u001b[37m3♠️\u001b[0m, \u001b[37m5♠️\u001b[0m, \u001b[37m9♠️\u001b[0m, \u001b[37m6♠️\u001b[0m, \u001b[33m9♦️\u001b[0m, \u001b[31m3♥️\u001b[0m, \u001b[31m6♥️\u001b[0m, \u001b[33m6♦️\u001b[0m, \u001b[31m2♥️\u001b[0m, \u001b[32m6♣️\u001b[0m, \u001b[33mQ♦️\u001b[0m]\n"
     ]
    }
   ],
   "source": [
    "game = mini_balatro.Game(seed=3)\n",
    "\n",
    "print(game.hand)\n",
    "print(game.hand.cards + game.deck.cards[:15:-1])"
   ]
  },
  {
   "cell_type": "code",
   "execution_count": 31,
   "metadata": {},
   "outputs": [
    {
     "name": "stdout",
     "output_type": "stream",
     "text": [
      "\n",
      "DISCARD:              \u001b[31m9♥️\u001b[0m  \u001b[32m9♣️\u001b[0m  \u001b[32m5♣️\u001b[0m  \u001b[33m3♦️\u001b[0m  \u001b[37m2♠️\u001b[0m  \n",
      "KEEP:     \u001b[32mK♣️\u001b[0m  \u001b[32mQ♣️\u001b[0m  \u001b[33mJ♦️\u001b[0m                      \n",
      "\n",
      "NEW:      \u001b[31mA♥️\u001b[0m      \u001b[37mQ♠️\u001b[0m          \u001b[37m8♠️\u001b[0m  \u001b[37m7♠️\u001b[0m  \u001b[31m5♥️\u001b[0m  \n",
      "OLD:          \u001b[32mK♣️\u001b[0m      \u001b[32mQ♣️\u001b[0m  \u001b[33mJ♦️\u001b[0m              \n",
      "\n",
      "Hands: 4, Discards: 2\n",
      "Round Score: 0 / 600\n"
     ]
    }
   ],
   "source": [
    "game.discard_cards([3, 4, 5, 6, 7])"
   ]
  },
  {
   "cell_type": "code",
   "execution_count": 32,
   "metadata": {},
   "outputs": [
    {
     "name": "stdout",
     "output_type": "stream",
     "text": [
      "\n",
      "DISCARD:              \u001b[32mQ♣️\u001b[0m  \u001b[33mJ♦️\u001b[0m  \u001b[37m8♠️\u001b[0m  \u001b[37m7♠️\u001b[0m  \u001b[31m5♥️\u001b[0m  \n",
      "KEEP:     \u001b[31mA♥️\u001b[0m  \u001b[32mK♣️\u001b[0m  \u001b[37mQ♠️\u001b[0m                      \n",
      "\n",
      "NEW:      \u001b[37mA♠️\u001b[0m      \u001b[31mK♥️\u001b[0m          \u001b[32m10♣️\u001b[0m  \u001b[33m4♦️\u001b[0m  \u001b[33m2♦️\u001b[0m  \n",
      "OLD:          \u001b[31mA♥️\u001b[0m      \u001b[32mK♣️\u001b[0m  \u001b[37mQ♠️\u001b[0m              \n",
      "\n",
      "Hands: 4, Discards: 1\n",
      "Round Score: 0 / 600\n"
     ]
    }
   ],
   "source": [
    "game.discard_cards([3, 4, 5, 6, 7])"
   ]
  },
  {
   "cell_type": "code",
   "execution_count": 33,
   "metadata": {},
   "outputs": [
    {
     "name": "stdout",
     "output_type": "stream",
     "text": [
      "\n",
      "DISCARD:                  \u001b[37mQ♠️\u001b[0m  \u001b[32m10♣️\u001b[0m  \u001b[33m4♦️\u001b[0m  \u001b[33m2♦️\u001b[0m  \n",
      "KEEP:     \u001b[37mA♠️\u001b[0m  \u001b[31mA♥️\u001b[0m  \u001b[31mK♥️\u001b[0m  \u001b[32mK♣️\u001b[0m                  \n",
      "\n",
      "NEW:                      \u001b[33mK♦️\u001b[0m  \u001b[37mJ♠️\u001b[0m  \u001b[31m10♥️\u001b[0m  \u001b[31m8♥️\u001b[0m  \n",
      "OLD:      \u001b[37mA♠️\u001b[0m  \u001b[31mA♥️\u001b[0m  \u001b[31mK♥️\u001b[0m  \u001b[32mK♣️\u001b[0m                  \n",
      "\n",
      "Hands: 4, Discards: 0\n",
      "Round Score: 0 / 600\n"
     ]
    }
   ],
   "source": [
    "game.discard_cards([4, 5, 6, 7])"
   ]
  },
  {
   "cell_type": "code",
   "execution_count": 34,
   "metadata": {},
   "outputs": [
    {
     "name": "stdout",
     "output_type": "stream",
     "text": [
      "\n",
      "PLAY:     \u001b[37mA♠️\u001b[0m  \u001b[31mA♥️\u001b[0m  \u001b[31mK♥️\u001b[0m  \u001b[32mK♣️\u001b[0m  \u001b[33mK♦️\u001b[0m              \n",
      "KEEP:                         \u001b[37mJ♠️\u001b[0m  \u001b[31m10♥️\u001b[0m  \u001b[31m8♥️\u001b[0m  \n",
      "\n",
      "Full House: [\u001b[37mA♠️\u001b[0m, \u001b[31mA♥️\u001b[0m, \u001b[31mK♥️\u001b[0m, \u001b[32mK♣️\u001b[0m, \u001b[33mK♦️\u001b[0m]\n",
      "Cards scored: [\u001b[37mA♠️\u001b[0m, \u001b[31mA♥️\u001b[0m, \u001b[31mK♥️\u001b[0m, \u001b[32mK♣️\u001b[0m, \u001b[33mK♦️\u001b[0m]\n",
      "Score: 92 x 4 = 368\n",
      "Total Score: 368 / 600\n",
      "\n",
      "NEW:                  \u001b[33m8♦️\u001b[0m  \u001b[37m5♠️\u001b[0m  \u001b[37m4♠️\u001b[0m  \u001b[37m3♠️\u001b[0m  \u001b[32m2♣️\u001b[0m  \n",
      "OLD:      \u001b[37mJ♠️\u001b[0m  \u001b[31m10♥️\u001b[0m  \u001b[31m8♥️\u001b[0m                      \n",
      "\n",
      "Hands: 3, Discards: 0\n",
      "Round Score: 368 / 600\n"
     ]
    }
   ],
   "source": [
    "game.play_hand([0, 1, 2, 3, 4])"
   ]
  },
  {
   "cell_type": "code",
   "execution_count": 38,
   "metadata": {},
   "outputs": [
    {
     "data": {
      "text/plain": [
       "56"
      ]
     },
     "execution_count": 38,
     "metadata": {},
     "output_type": "execute_result"
    }
   ],
   "source": [
    "import itertools\n",
    "x = \"12345678\"\n",
    "len(list(itertools.combinations(x, 5)))\n"
   ]
  },
  {
   "cell_type": "code",
   "execution_count": null,
   "metadata": {},
   "outputs": [],
   "source": []
  }
 ],
 "metadata": {
  "kernelspec": {
   "display_name": "balatro",
   "language": "python",
   "name": "python3"
  },
  "language_info": {
   "codemirror_mode": {
    "name": "ipython",
    "version": 3
   },
   "file_extension": ".py",
   "mimetype": "text/x-python",
   "name": "python",
   "nbconvert_exporter": "python",
   "pygments_lexer": "ipython3",
   "version": "3.12.4"
  }
 },
 "nbformat": 4,
 "nbformat_minor": 2
}
